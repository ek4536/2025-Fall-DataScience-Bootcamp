{
 "cells": [
  {
   "cell_type": "code",
   "execution_count": null,
   "id": "28731674",
   "metadata": {},
   "outputs": [
    {
     "name": "stdout",
     "output_type": "stream",
     "text": [
      "<class 'int'>\n",
      "<class 'float'>\n",
      "<class 'str'>\n",
      "<class 'bool'>\n",
      "<class 'NoneType'>\n"
     ]
    }
   ],
   "source": [
    "# Data Types in Python\n",
    "# List : mutable\n",
    "\n",
    "a = 11\n",
    "b = 3.14\n",
    "c = '11'\n",
    "d = False\n",
    "e = None\n",
    "\n",
    "print(type(a))\n",
    "print(type(b))\n",
    "print(type(c))\n",
    "print(type(d))\n",
    "print(type(e))"
   ]
  },
  {
   "cell_type": "code",
   "execution_count": 4,
   "id": "100fc3cc",
   "metadata": {},
   "outputs": [
    {
     "name": "stdout",
     "output_type": "stream",
     "text": [
      "['DataScience', 2025]\n",
      "['DataScience', 2025, 'AI']\n",
      "AI\n"
     ]
    }
   ],
   "source": [
    "l = ['DataScience', 2025]\n",
    "print(l)\n",
    "\n",
    "l.append('AI')\n",
    "print(l)\n",
    "\n",
    "l_1 = l[2]\n",
    "print(l_1)"
   ]
  },
  {
   "cell_type": "code",
   "execution_count": 9,
   "id": "8f733e1d",
   "metadata": {},
   "outputs": [
    {
     "name": "stdout",
     "output_type": "stream",
     "text": [
      "[1, 2, 3, 4, 5, 6, 7, 8, 9, 10]\n",
      "[3, 4]\n",
      "[3, 4, 5, 6, 7, 8, 9, 10]\n",
      "[1, 2, 3, 4]\n",
      "[1, 2, 3, 4, 5, 6, 7, 8, 9, 10]\n",
      "[1, 3, 5, 7, 9]\n",
      "[10, 9, 8, 7, 6, 5, 4, 3, 2, 1]\n",
      "[1, 999, 4, 5, 6, 7, 8, 9, 10]\n"
     ]
    }
   ],
   "source": [
    "nums = list(range(1, 11))\n",
    "print(nums)\n",
    "\n",
    "print(nums[2:4])\n",
    "print(nums[2:])\n",
    "print(nums[:4])\n",
    "print(nums[:])\n",
    "print(nums[::2])\n",
    "print(nums[::-1])\n",
    "\n",
    "nums[1:3] = [999]\n",
    "print(nums)"
   ]
  },
  {
   "cell_type": "code",
   "execution_count": 12,
   "id": "100a6b2b",
   "metadata": {},
   "outputs": [
    {
     "name": "stdout",
     "output_type": "stream",
     "text": [
      "('NYU', 'DataScience', 2025, 3.14, False)\n",
      "('NYU', 'DataScience', 'AI', 2025, 3.14, False)\n"
     ]
    }
   ],
   "source": [
    "# Tuple : immutable\n",
    "\n",
    "t = ()\n",
    "t = ('NYU', 'DataScience', 2025, 3.14, False)\n",
    "print(t)\n",
    "\n",
    "\n",
    "t = list(t)\n",
    "t.insert(2, 'AI')\n",
    "t = tuple(t)\n",
    "\n",
    "print(t)"
   ]
  },
  {
   "cell_type": "code",
   "execution_count": 14,
   "id": "69226a28",
   "metadata": {},
   "outputs": [
    {
     "name": "stdout",
     "output_type": "stream",
     "text": [
      "{'name': 'NYU', 'course': 'DataScience', 'year': 2025}\n",
      "NYU\n",
      "DataScience\n"
     ]
    }
   ],
   "source": [
    "# Dictionary : mutable\n",
    "\n",
    "l = []\n",
    "t = ()\n",
    "d = {}\n",
    "\n",
    "d = {'name': 'NYU', 'course': 'DataScience', 'year': 2025}\n",
    "print(d)\n",
    "print(d['name'])\n",
    "print(d.get('course'))"
   ]
  },
  {
   "cell_type": "code",
   "execution_count": 15,
   "id": "52aa0569",
   "metadata": {},
   "outputs": [
    {
     "name": "stdout",
     "output_type": "stream",
     "text": [
      "Medium area\n"
     ]
    }
   ],
   "source": [
    "r = 10\n",
    "area = 3.14 * r**2\n",
    "\n",
    "if area > 500:\n",
    "    print('Large area')\n",
    "elif area <=500 and area > 100:\n",
    "    print('Medium area')\n",
    "else:\n",
    "    print('Small area')"
   ]
  },
  {
   "cell_type": "code",
   "execution_count": 17,
   "id": "9f234d84",
   "metadata": {},
   "outputs": [
    {
     "name": "stdout",
     "output_type": "stream",
     "text": [
      "Sum of first 100 numbers is: 5050\n"
     ]
    }
   ],
   "source": [
    "i = 100\n",
    "sum = 0\n",
    "\n",
    "while i > 0:\n",
    "    sum += i\n",
    "    i -= 1\n",
    "print(\"Sum of first 100 numbers is:\", sum)"
   ]
  },
  {
   "cell_type": "code",
   "execution_count": 18,
   "id": "6372ebc2",
   "metadata": {},
   "outputs": [
    {
     "name": "stdout",
     "output_type": "stream",
     "text": [
      "Sum of first 100 numbers is: 5050\n"
     ]
    }
   ],
   "source": [
    "sum = 0\n",
    "i = 100\n",
    "\n",
    "while True:\n",
    "    if i <0:\n",
    "        break\n",
    "\n",
    "    sum += i\n",
    "    i -= 1\n",
    "\n",
    "print(\"Sum of first 100 numbers is:\", sum)"
   ]
  },
  {
   "cell_type": "code",
   "execution_count": 20,
   "id": "a9ac31fb",
   "metadata": {},
   "outputs": [
    {
     "name": "stdout",
     "output_type": "stream",
     "text": [
      "Sum of first 100 numbers is: 5050\n"
     ]
    }
   ],
   "source": [
    "sum = 0\n",
    "\n",
    "for i in range(1, 101):\n",
    "    sum += i\n",
    "\n",
    "print(\"Sum of first 100 numbers is:\", sum)"
   ]
  },
  {
   "cell_type": "code",
   "execution_count": 22,
   "id": "905f2a2a",
   "metadata": {},
   "outputs": [
    {
     "name": "stdout",
     "output_type": "stream",
     "text": [
      "cat\n",
      "dog\n",
      "rabbit\n"
     ]
    }
   ],
   "source": [
    "animals = ['cat', 'dog', 'rabbit']\n",
    "for i in range(len(animals)):\n",
    "    print(animals[i])"
   ]
  },
  {
   "cell_type": "code",
   "execution_count": 23,
   "id": "2e95d354",
   "metadata": {},
   "outputs": [
    {
     "name": "stdout",
     "output_type": "stream",
     "text": [
      "cat\n",
      "dog\n",
      "rabbit\n"
     ]
    }
   ],
   "source": [
    "aniamals = ['cat', 'dog', 'rabbit']\n",
    "for i in aniamals:\n",
    "    print(i)"
   ]
  },
  {
   "cell_type": "code",
   "execution_count": 24,
   "id": "9f084c08",
   "metadata": {},
   "outputs": [
    {
     "name": "stdout",
     "output_type": "stream",
     "text": [
      "1\n",
      "Eunji\n"
     ]
    }
   ],
   "source": [
    "a = (1, \"Eunji\")\n",
    "b,c = a\n",
    "print(b)\n",
    "print(c)"
   ]
  },
  {
   "cell_type": "code",
   "execution_count": 27,
   "id": "d87e39c3",
   "metadata": {},
   "outputs": [
    {
     "name": "stdout",
     "output_type": "stream",
     "text": [
      "1 New York\n",
      "2 Paris\n",
      "3 Dubai\n",
      "4 London\n"
     ]
    },
    {
     "data": {
      "text/plain": [
       "dict_items([(1, 'New York'), (2, 'Paris'), (3, 'Dubai'), (4, 'London')])"
      ]
     },
     "execution_count": 27,
     "metadata": {},
     "output_type": "execute_result"
    }
   ],
   "source": [
    "d={1:'New York',2:'Paris',3:'Dubai',4:'London'}\n",
    "\n",
    "for i, city in d.items():\n",
    "    print(i, city)\n",
    "\n",
    "d.items()"
   ]
  },
  {
   "cell_type": "code",
   "execution_count": null,
   "id": "f18552da",
   "metadata": {},
   "outputs": [],
   "source": []
  }
 ],
 "metadata": {
  "kernelspec": {
   "display_name": "env",
   "language": "python",
   "name": "python3"
  },
  "language_info": {
   "codemirror_mode": {
    "name": "ipython",
    "version": 3
   },
   "file_extension": ".py",
   "mimetype": "text/x-python",
   "name": "python",
   "nbconvert_exporter": "python",
   "pygments_lexer": "ipython3",
   "version": "3.13.2"
  }
 },
 "nbformat": 4,
 "nbformat_minor": 5
}
